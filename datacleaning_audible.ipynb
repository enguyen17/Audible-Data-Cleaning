{
 "cells": [
  {
   "cell_type": "markdown",
   "metadata": {},
   "source": [
    "# Introduction\n"
   ]
  },
  {
   "cell_type": "code",
   "execution_count": null,
   "metadata": {},
   "outputs": [
    {
     "name": "stdout",
     "output_type": "stream",
     "text": [
      "Warning: Your Kaggle API key is readable by other users on this system! To fix this, you can run 'chmod 600 /Users/emilynguyen/.kaggle/kaggle.json'\n"
     ]
    }
   ],
   "source": [
    "# import libraries\n",
    "import pandas as pd\n",
    "import zipfile\n",
    "import re\n",
    "import kaggle\n",
    "import datetime"
   ]
  },
  {
   "cell_type": "markdown",
   "metadata": {},
   "source": []
  },
  {
   "cell_type": "code",
   "execution_count": 321,
   "metadata": {},
   "outputs": [
    {
     "name": "stdout",
     "output_type": "stream",
     "text": [
      "^C\n",
      "Warning: Your Kaggle API key is readable by other users on this system! To fix this, you can run 'chmod 600 /Users/emilynguyen/.kaggle/kaggle.json'\n"
     ]
    }
   ],
   "source": [
    "# download dataset\n",
    "!kaggle datasets download -d snehangsude/audible-dataset"
   ]
  },
  {
   "cell_type": "code",
   "execution_count": 3,
   "metadata": {},
   "outputs": [],
   "source": [
    "# extract csv from zip file\n",
    "zipfile_name = 'audible-dataset.zip'\n",
    "with zipfile.ZipFile(zipfile_name, 'r') as file:\n",
    "    file.extractall()"
   ]
  },
  {
   "cell_type": "code",
   "execution_count": 40,
   "metadata": {},
   "outputs": [
    {
     "data": {
      "text/html": [
       "<div>\n",
       "<style scoped>\n",
       "    .dataframe tbody tr th:only-of-type {\n",
       "        vertical-align: middle;\n",
       "    }\n",
       "\n",
       "    .dataframe tbody tr th {\n",
       "        vertical-align: top;\n",
       "    }\n",
       "\n",
       "    .dataframe thead th {\n",
       "        text-align: right;\n",
       "    }\n",
       "</style>\n",
       "<table border=\"1\" class=\"dataframe\">\n",
       "  <thead>\n",
       "    <tr style=\"text-align: right;\">\n",
       "      <th></th>\n",
       "      <th>name</th>\n",
       "      <th>author</th>\n",
       "      <th>narrator</th>\n",
       "      <th>time</th>\n",
       "      <th>releasedate</th>\n",
       "      <th>language</th>\n",
       "      <th>stars</th>\n",
       "      <th>price</th>\n",
       "    </tr>\n",
       "  </thead>\n",
       "  <tbody>\n",
       "    <tr>\n",
       "      <th>0</th>\n",
       "      <td>Geronimo Stilton #11 &amp; #12</td>\n",
       "      <td>Writtenby:GeronimoStilton</td>\n",
       "      <td>Narratedby:BillLobely</td>\n",
       "      <td>2 hrs and 20 mins</td>\n",
       "      <td>04-08-08</td>\n",
       "      <td>English</td>\n",
       "      <td>5 out of 5 stars34 ratings</td>\n",
       "      <td>468.00</td>\n",
       "    </tr>\n",
       "    <tr>\n",
       "      <th>1</th>\n",
       "      <td>The Burning Maze</td>\n",
       "      <td>Writtenby:RickRiordan</td>\n",
       "      <td>Narratedby:RobbieDaymond</td>\n",
       "      <td>13 hrs and 8 mins</td>\n",
       "      <td>01-05-18</td>\n",
       "      <td>English</td>\n",
       "      <td>4.5 out of 5 stars41 ratings</td>\n",
       "      <td>820.00</td>\n",
       "    </tr>\n",
       "    <tr>\n",
       "      <th>2</th>\n",
       "      <td>The Deep End</td>\n",
       "      <td>Writtenby:JeffKinney</td>\n",
       "      <td>Narratedby:DanRussell</td>\n",
       "      <td>2 hrs and 3 mins</td>\n",
       "      <td>06-11-20</td>\n",
       "      <td>English</td>\n",
       "      <td>4.5 out of 5 stars38 ratings</td>\n",
       "      <td>410.00</td>\n",
       "    </tr>\n",
       "    <tr>\n",
       "      <th>3</th>\n",
       "      <td>Daughter of the Deep</td>\n",
       "      <td>Writtenby:RickRiordan</td>\n",
       "      <td>Narratedby:SoneelaNankani</td>\n",
       "      <td>11 hrs and 16 mins</td>\n",
       "      <td>05-10-21</td>\n",
       "      <td>English</td>\n",
       "      <td>4.5 out of 5 stars12 ratings</td>\n",
       "      <td>615.00</td>\n",
       "    </tr>\n",
       "    <tr>\n",
       "      <th>4</th>\n",
       "      <td>The Lightning Thief: Percy Jackson, Book 1</td>\n",
       "      <td>Writtenby:RickRiordan</td>\n",
       "      <td>Narratedby:JesseBernstein</td>\n",
       "      <td>10 hrs</td>\n",
       "      <td>13-01-10</td>\n",
       "      <td>English</td>\n",
       "      <td>4.5 out of 5 stars181 ratings</td>\n",
       "      <td>820.00</td>\n",
       "    </tr>\n",
       "    <tr>\n",
       "      <th>...</th>\n",
       "      <td>...</td>\n",
       "      <td>...</td>\n",
       "      <td>...</td>\n",
       "      <td>...</td>\n",
       "      <td>...</td>\n",
       "      <td>...</td>\n",
       "      <td>...</td>\n",
       "      <td>...</td>\n",
       "    </tr>\n",
       "    <tr>\n",
       "      <th>87484</th>\n",
       "      <td>Last Days of the Bus Club</td>\n",
       "      <td>Writtenby:ChrisStewart</td>\n",
       "      <td>Narratedby:ChrisStewart</td>\n",
       "      <td>7 hrs and 34 mins</td>\n",
       "      <td>09-03-17</td>\n",
       "      <td>English</td>\n",
       "      <td>Not rated yet</td>\n",
       "      <td>596.00</td>\n",
       "    </tr>\n",
       "    <tr>\n",
       "      <th>87485</th>\n",
       "      <td>The Alps</td>\n",
       "      <td>Writtenby:StephenO'Shea</td>\n",
       "      <td>Narratedby:RobertFass</td>\n",
       "      <td>10 hrs and 7 mins</td>\n",
       "      <td>21-02-17</td>\n",
       "      <td>English</td>\n",
       "      <td>Not rated yet</td>\n",
       "      <td>820.00</td>\n",
       "    </tr>\n",
       "    <tr>\n",
       "      <th>87486</th>\n",
       "      <td>The Innocents Abroad</td>\n",
       "      <td>Writtenby:MarkTwain</td>\n",
       "      <td>Narratedby:FloGibson</td>\n",
       "      <td>19 hrs and 4 mins</td>\n",
       "      <td>30-12-16</td>\n",
       "      <td>English</td>\n",
       "      <td>Not rated yet</td>\n",
       "      <td>938.00</td>\n",
       "    </tr>\n",
       "    <tr>\n",
       "      <th>87487</th>\n",
       "      <td>A Sentimental Journey</td>\n",
       "      <td>Writtenby:LaurenceSterne</td>\n",
       "      <td>Narratedby:AntonLesser</td>\n",
       "      <td>4 hrs and 8 mins</td>\n",
       "      <td>23-02-11</td>\n",
       "      <td>English</td>\n",
       "      <td>Not rated yet</td>\n",
       "      <td>680.00</td>\n",
       "    </tr>\n",
       "    <tr>\n",
       "      <th>87488</th>\n",
       "      <td>Havana</td>\n",
       "      <td>Writtenby:MarkKurlansky</td>\n",
       "      <td>Narratedby:FleetCooper</td>\n",
       "      <td>6 hrs and 1 min</td>\n",
       "      <td>07-03-17</td>\n",
       "      <td>English</td>\n",
       "      <td>Not rated yet</td>\n",
       "      <td>569.00</td>\n",
       "    </tr>\n",
       "  </tbody>\n",
       "</table>\n",
       "<p>87489 rows × 8 columns</p>\n",
       "</div>"
      ],
      "text/plain": [
       "                                             name                     author  \\\n",
       "0                      Geronimo Stilton #11 & #12  Writtenby:GeronimoStilton   \n",
       "1                                The Burning Maze      Writtenby:RickRiordan   \n",
       "2                                    The Deep End       Writtenby:JeffKinney   \n",
       "3                            Daughter of the Deep      Writtenby:RickRiordan   \n",
       "4      The Lightning Thief: Percy Jackson, Book 1      Writtenby:RickRiordan   \n",
       "...                                           ...                        ...   \n",
       "87484                   Last Days of the Bus Club     Writtenby:ChrisStewart   \n",
       "87485                                    The Alps    Writtenby:StephenO'Shea   \n",
       "87486                        The Innocents Abroad        Writtenby:MarkTwain   \n",
       "87487                       A Sentimental Journey   Writtenby:LaurenceSterne   \n",
       "87488                                      Havana    Writtenby:MarkKurlansky   \n",
       "\n",
       "                        narrator                time releasedate language  \\\n",
       "0          Narratedby:BillLobely   2 hrs and 20 mins    04-08-08  English   \n",
       "1       Narratedby:RobbieDaymond   13 hrs and 8 mins    01-05-18  English   \n",
       "2          Narratedby:DanRussell    2 hrs and 3 mins    06-11-20  English   \n",
       "3      Narratedby:SoneelaNankani  11 hrs and 16 mins    05-10-21  English   \n",
       "4      Narratedby:JesseBernstein              10 hrs    13-01-10  English   \n",
       "...                          ...                 ...         ...      ...   \n",
       "87484    Narratedby:ChrisStewart   7 hrs and 34 mins    09-03-17  English   \n",
       "87485      Narratedby:RobertFass   10 hrs and 7 mins    21-02-17  English   \n",
       "87486       Narratedby:FloGibson   19 hrs and 4 mins    30-12-16  English   \n",
       "87487     Narratedby:AntonLesser    4 hrs and 8 mins    23-02-11  English   \n",
       "87488     Narratedby:FleetCooper     6 hrs and 1 min    07-03-17  English   \n",
       "\n",
       "                               stars   price  \n",
       "0         5 out of 5 stars34 ratings  468.00  \n",
       "1       4.5 out of 5 stars41 ratings  820.00  \n",
       "2       4.5 out of 5 stars38 ratings  410.00  \n",
       "3       4.5 out of 5 stars12 ratings  615.00  \n",
       "4      4.5 out of 5 stars181 ratings  820.00  \n",
       "...                              ...     ...  \n",
       "87484                  Not rated yet  596.00  \n",
       "87485                  Not rated yet  820.00  \n",
       "87486                  Not rated yet  938.00  \n",
       "87487                  Not rated yet  680.00  \n",
       "87488                  Not rated yet  569.00  \n",
       "\n",
       "[87489 rows x 8 columns]"
      ]
     },
     "execution_count": 40,
     "metadata": {},
     "output_type": "execute_result"
    }
   ],
   "source": [
    "# read in csv file\n",
    "audible = pd.read_csv('audible_uncleaned.csv')"
   ]
  },
  {
   "cell_type": "code",
   "execution_count": 17,
   "metadata": {},
   "outputs": [
    {
     "name": "stdout",
     "output_type": "stream",
     "text": [
      "<class 'pandas.core.frame.DataFrame'>\n",
      "RangeIndex: 87489 entries, 0 to 87488\n",
      "Data columns (total 8 columns):\n",
      " #   Column       Non-Null Count  Dtype \n",
      "---  ------       --------------  ----- \n",
      " 0   name         87489 non-null  object\n",
      " 1   author       87489 non-null  object\n",
      " 2   narrator     87489 non-null  object\n",
      " 3   time         87489 non-null  object\n",
      " 4   releasedate  87489 non-null  object\n",
      " 5   language     87489 non-null  object\n",
      " 6   stars        87489 non-null  object\n",
      " 7   price        87489 non-null  object\n",
      "dtypes: object(8)\n",
      "memory usage: 5.3+ MB\n"
     ]
    }
   ],
   "source": [
    "audible.info()"
   ]
  },
  {
   "cell_type": "code",
   "execution_count": 18,
   "metadata": {},
   "outputs": [
    {
     "data": {
      "text/plain": [
       "(87489, 8)"
      ]
     },
     "execution_count": 18,
     "metadata": {},
     "output_type": "execute_result"
    }
   ],
   "source": [
    "audible.shape"
   ]
  },
  {
   "cell_type": "code",
   "execution_count": 45,
   "metadata": {},
   "outputs": [],
   "source": [
    "# Clean author names by removing repeating string\n",
    "audible['author'] = audible['author'].str.replace('Writtenby:', '')"
   ]
  },
  {
   "cell_type": "code",
   "execution_count": 46,
   "metadata": {},
   "outputs": [],
   "source": [
    "# Clean narrator names by removing repeating string\n",
    "audible['narrator'] = audible['narrator'].str.replace('Narratedby:', '')"
   ]
  },
  {
   "cell_type": "code",
   "execution_count": 47,
   "metadata": {},
   "outputs": [],
   "source": [
    "# Convert release date to date time type\n",
    "audible['releasedate'] = pd.to_datetime(audible['releasedate'])"
   ]
  },
  {
   "cell_type": "code",
   "execution_count": 42,
   "metadata": {},
   "outputs": [],
   "source": [
    "# Convert duration string into minutes\n",
    "for i in range(audible.time.shape[0]):\n",
    "    total = 0\n",
    "    # find the numeric value for hour and minute \n",
    "    time_parts = re.findall(r'(\\d+) hr?|(\\d+) min?', audible['time'].iloc[i])\n",
    "    for part in time_parts:\n",
    "        if part[0]:  # hours part\n",
    "            total += int(part[0]) * 60\n",
    "        if part[1]:  # minutes part\n",
    "            total += int(part[1])\n",
    "    audible['time'].iloc[i] = total"
   ]
  },
  {
   "cell_type": "code",
   "execution_count": 49,
   "metadata": {},
   "outputs": [],
   "source": [
    "# Create new column to separate number of ratings from star ratings\n",
    "audible['ratings'] = audible['stars']"
   ]
  },
  {
   "cell_type": "code",
   "execution_count": 50,
   "metadata": {},
   "outputs": [],
   "source": [
    "# Extract number from ratings and store in ratings column\n",
    "s = audible['ratings']\n",
    "audible['ratings'] = s.str.extract(pat='(\\d+) ratings')\n",
    "audible['ratings'] = audible['ratings'].fillna(0)\n",
    "audible['ratings'] = pd.to_numeric(audible['ratings'])"
   ]
  },
  {
   "cell_type": "code",
   "execution_count": 51,
   "metadata": {},
   "outputs": [],
   "source": [
    "# Extract star rating and store in stars column\n",
    "t = audible['stars']\n",
    "audible['stars'] = t.str.extract(pat='(\\d*\\.?\\d*) out of 5 stars')\n",
    "audible['stars'] = audible['stars'].fillna(0)\n",
    "audible['stars'] = pd.to_numeric(audible['stars'])\n"
   ]
  },
  {
   "cell_type": "code",
   "execution_count": 65,
   "metadata": {},
   "outputs": [
    {
     "data": {
      "text/plain": [
       "array(['English', 'Hindi', 'spanish', 'german', 'french', 'catalan',\n",
       "       'swedish', 'italian', 'danish', 'finnish', 'dutch', 'hebrew',\n",
       "       'russian', 'polish', 'galician', 'afrikaans', 'icelandic',\n",
       "       'romanian', 'japanese', 'tamil', 'portuguese', 'urdu', 'hungarian',\n",
       "       'czech', 'bulgarian', 'mandarin_chinese', 'basque', 'korean',\n",
       "       'arabic', 'greek', 'turkish', 'ukrainian', 'slovene', 'norwegian',\n",
       "       'telugu', 'lithuanian'], dtype=object)"
      ]
     },
     "execution_count": 65,
     "metadata": {},
     "output_type": "execute_result"
    }
   ],
   "source": [
    "audible.language.unique()"
   ]
  },
  {
   "cell_type": "code",
   "execution_count": 68,
   "metadata": {},
   "outputs": [],
   "source": [
    "audible.language = audible.language.str.capitalize()"
   ]
  },
  {
   "cell_type": "code",
   "execution_count": 69,
   "metadata": {},
   "outputs": [
    {
     "data": {
      "text/plain": [
       "array(['English', 'Hindi', 'Spanish', 'German', 'French', 'Catalan',\n",
       "       'Swedish', 'Italian', 'Danish', 'Finnish', 'Dutch', 'Hebrew',\n",
       "       'Russian', 'Polish', 'Galician', 'Afrikaans', 'Icelandic',\n",
       "       'Romanian', 'Japanese', 'Tamil', 'Portuguese', 'Urdu', 'Hungarian',\n",
       "       'Czech', 'Bulgarian', 'Mandarin_chinese', 'Basque', 'Korean',\n",
       "       'Arabic', 'Greek', 'Turkish', 'Ukrainian', 'Slovene', 'Norwegian',\n",
       "       'Telugu', 'Lithuanian'], dtype=object)"
      ]
     },
     "execution_count": 69,
     "metadata": {},
     "output_type": "execute_result"
    }
   ],
   "source": [
    "audible.language.unique()"
   ]
  }
 ],
 "metadata": {
  "kernelspec": {
   "display_name": "Python 3",
   "language": "python",
   "name": "python3"
  },
  "language_info": {
   "codemirror_mode": {
    "name": "ipython",
    "version": 3
   },
   "file_extension": ".py",
   "mimetype": "text/x-python",
   "name": "python",
   "nbconvert_exporter": "python",
   "pygments_lexer": "ipython3",
   "version": "3.10.2"
  }
 },
 "nbformat": 4,
 "nbformat_minor": 2
}
